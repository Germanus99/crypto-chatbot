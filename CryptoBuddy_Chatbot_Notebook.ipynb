{
 "cells": [
  {
   "cell_type": "markdown",
   "id": "de5b6e08",
   "metadata": {},
   "source": [
    "# 🤖 CryptoBuddy – Your AI Financial Sidekick\n",
    "\n",
    "**Theme:** *\"Your First AI-Powered Financial Sidekick!\"* 🌟  \n",
    "**Objective:** Build a rule-based chatbot that analyzes cryptocurrency data and gives investment advice based on profitability and sustainability.\n",
    "\n",
    "---"
   ]
  },
  {
   "cell_type": "markdown",
   "id": "46086612",
   "metadata": {},
   "source": [
    "## 🧠 Step 1: Design the Chatbot's Personality\n",
    "\n",
    "**Bot Name:** CryptoBuddy  \n",
    "**Tone:** Friendly and helpful  \n",
    "> “Hey there! 👋 Let’s find you a green 🌿 and growing 📈 coin!”"
   ]
  },
  {
   "cell_type": "markdown",
   "id": "6e9880d7",
   "metadata": {},
   "source": [
    "## 💾 Step 2: Predefined Crypto Data"
   ]
  },
  {
   "cell_type": "code",
   "execution_count": null,
   "id": "c90007da",
   "metadata": {},
   "outputs": [],
   "source": [
    "crypto_db = {\n",
    "    \"Bitcoin\": {\n",
    "        \"price_trend\": \"rising\",\n",
    "        \"market_cap\": \"high\",\n",
    "        \"energy_use\": \"high\",\n",
    "        \"sustainability_score\": 3\n",
    "    },\n",
    "    \"Ethereum\": {\n",
    "        \"price_trend\": \"stable\",\n",
    "        \"market_cap\": \"high\",\n",
    "        \"energy_use\": \"medium\",\n",
    "        \"sustainability_score\": 6\n",
    "    },\n",
    "    \"Cardano\": {\n",
    "        \"price_trend\": \"rising\",\n",
    "        \"market_cap\": \"medium\",\n",
    "        \"energy_use\": \"low\",\n",
    "        \"sustainability_score\": 8\n",
    "    }\n",
    "}"
   ]
  },
  {
   "cell_type": "markdown",
   "id": "bbbc8c2c",
   "metadata": {},
   "source": [
    "## 🧠 Step 3: Chatbot Logic"
   ]
  },
  {
   "cell_type": "code",
   "execution_count": null,
   "id": "ae3c534f",
   "metadata": {},
   "outputs": [],
   "source": [
    "def get_user_query():\n",
    "    return input(\"You: \").lower()"
   ]
  },
  {
   "cell_type": "markdown",
   "id": "764bdd1e",
   "metadata": {},
   "source": [
    "## 📊 Step 4: Add Advice Rules"
   ]
  },
  {
   "cell_type": "code",
   "execution_count": null,
   "id": "700fe4e1",
   "metadata": {},
   "outputs": [],
   "source": [
    "bot_name = \"CryptoBuddy\"\n",
    "\n",
    "def get_most_sustainable():\n",
    "    best = max(crypto_db, key=lambda x: crypto_db[x][\"sustainability_score\"])\n",
    "    return f\"{bot_name}: Invest in {best}! 🌱 It’s eco-friendly and has long-term potential!\"\n",
    "\n",
    "def get_most_profitable():\n",
    "    candidates = [coin for coin in crypto_db if crypto_db[coin][\"price_trend\"] == \"rising\" and crypto_db[coin][\"market_cap\"] == \"high\"]\n",
    "    if candidates:\n",
    "        return f\"{bot_name}: {candidates[0]} is trending up 📈 and has strong market support. Great for short-term profits!\"\n",
    "    else:\n",
    "        return f\"{bot_name}: Hmm 🤔 I couldn't find a high-market coin that's rising right now.\"\n",
    "\n",
    "def recommend_by_query(query):\n",
    "    if \"sustainable\" in query:\n",
    "        return get_most_sustainable()\n",
    "    elif \"profitable\" in query or \"profit\" in query or \"trending\" in query:\n",
    "        return get_most_profitable()\n",
    "    elif \"cardano\" in query:\n",
    "        return f\"{bot_name}: Cardano (ADA) is trending up 🚀 and has a top-tier sustainability score of 8/10! 💚\"\n",
    "    elif \"bitcoin\" in query:\n",
    "        return f\"{bot_name}: Bitcoin is profitable 📈 but consumes a lot of energy ⚡. Invest with caution.\"\n",
    "    elif \"ethereum\" in query:\n",
    "        return f\"{bot_name}: Ethereum is stable and has decent sustainability. A solid choice for balanced investors!\"\n",
    "    else:\n",
    "        return f\"{bot_name}: I'm not sure about that one. Try asking about sustainability, trends, or specific coins!\" "
   ]
  },
  {
   "cell_type": "markdown",
   "id": "3d1ff4b4",
   "metadata": {},
   "source": [
    "## 💬 Step 5: Test Your Bot"
   ]
  },
  {
   "cell_type": "code",
   "execution_count": null,
   "id": "c85e9ea5",
   "metadata": {},
   "outputs": [],
   "source": [
    "def greet():\n",
    "    print(f\"{bot_name}: Hey there! 👋 I'm {bot_name}, your AI crypto sidekick. Let’s find you a green 🌿 and growing 📈 coin!\")\n",
    "\n",
    "def chatbot():\n",
    "    greet()\n",
    "    print(\"Ask me things like: 'Which crypto is trending?', 'What’s the most sustainable coin?', or 'Tell me about Cardano'.\")\n",
    "    print(\"Type 'exit' to quit.\\n\")\n",
    "\n",
    "    while True:\n",
    "        query = get_user_query()\n",
    "        if query == \"exit\":\n",
    "            print(f\"{bot_name}: Bye! 👋 Remember, crypto is risky—always DYOR (Do Your Own Research)!\")\n",
    "            break\n",
    "        response = recommend_by_query(query)\n",
    "        print(response)\n",
    "\n",
    "chatbot()"
   ]
  },
  {
   "cell_type": "markdown",
   "id": "196d20ac",
   "metadata": {},
   "source": [
    "## 🌟 Stretch Goals (Optional)\n",
    "- Use the [CoinGecko API](https://www.coingecko.com/en/api) for real-time data.\n",
    "- Use `NLTK` or `spaCy` for natural language understanding.\n",
    "- Save conversations to a file.\n"
   ]
  },
  {
   "cell_type": "markdown",
   "id": "c0330c6c",
   "metadata": {},
   "source": [
    "## ⚠️ Ethics Alert\n",
    "Always include this disclaimer in your chatbot:\n",
    "\n",
    "> “Crypto is risky—always do your own research!” 🔍💰\n"
   ]
  }
 ],
 "metadata": {},
 "nbformat": 4,
 "nbformat_minor": 5
}
